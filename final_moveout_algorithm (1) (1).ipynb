{
 "cells": [
  {
   "cell_type": "code",
   "execution_count": null,
   "id": "db0e526b",
   "metadata": {},
   "outputs": [],
   "source": [
    "#import libraries\n",
    "import csv\n",
    "import pandas as pd\n",
    "from geopy.geocoders import Nominatim"
   ]
  },
  {
   "cell_type": "code",
   "execution_count": null,
   "id": "ade304f2",
   "metadata": {},
   "outputs": [],
   "source": [
    "# read in data\n",
    "data = pd.read_csv('addresses.csv')"
   ]
  },
  {
   "cell_type": "code",
   "execution_count": null,
   "id": "47acb4f8",
   "metadata": {},
   "outputs": [],
   "source": [
    "#clean data\n",
    "#data = data.rename(columns = {'Are you available for pickup on Friday, May 20th between 9am-12pm?':'20th am', 'Are you available for pickup on Friday, May 20th between 1-4pm?':'20th pm', 'Are you available for pickup on Saturday, May 21st between 9am-12pm?':'21st am', 'Are you available for pickup on Saturday, May 21st between 1-4pm?':'21st pm'}, axis=1)\n",
    "                   #'Are you available for pickup on Friday, May 27th between 9am-12pm?':'27th am','Are you available for pickup on Friday, May 27th between 1-4pm?':'27th pm', 'Are you available for pickup on Saturday, May 28th between 9am-12pm?':'28th am', 'Are you available for pickup on Saturday, May 28th between 1-4pm?':'28th pm'}, inplace = True)\n",
    "days = ['20th am', '20th pm', '21st am', '21st pm', '27th am', '27th pm', '28th am', '28th pm']\n",
    "selected = ['Name', 'Address Line 1', 'Address Line 2', 'City','Zip Code']+ days\n",
    "\n",
    "\n",
    "new_data = data[selected]\n"
   ]
  },
  {
   "cell_type": "code",
   "execution_count": null,
   "id": "8119dd81",
   "metadata": {},
   "outputs": [],
   "source": [
    "#make full address and select number of pickups\n",
    "num_pickups = 88\n",
    "new_data['address'] = new_data['Address Line 1'] + ', '+ new_data['City']\n",
    "#new_data = new_data.drop([20, 32, 50], axis = 0)\n",
    "new_data = new_data.iloc[:num_pickups]"
   ]
  },
  {
   "cell_type": "code",
   "execution_count": null,
   "id": "8ad889ca",
   "metadata": {},
   "outputs": [],
   "source": [
    "#convert dates\n",
    "for row in days:\n",
    "    new_data[row] = [1 if x == 'Yes' else 0 for x in new_data[row].values]\n",
    "    \n",
    "\n",
    "#create numeric indicator for availability\n",
    "new_data['sum'] = new_data['20th am'] + new_data['20th pm'] + new_data['21st am'] + new_data['21st pm'] + new_data['27th am'] + new_data['27th pm'] + new_data['28th am'] + new_data['28th pm']\n"
   ]
  },
  {
   "cell_type": "code",
   "execution_count": null,
   "id": "ed6ad6f0",
   "metadata": {},
   "outputs": [],
   "source": [
    "geolocator = Nominatim(user_agent=\"example app\")\n",
    "\n",
    "addresses = new_data['address'].values"
   ]
  },
  {
   "cell_type": "code",
   "execution_count": null,
   "id": "3be09d7a",
   "metadata": {},
   "outputs": [],
   "source": [
    "coordinates = []\n",
    "\n",
    "for i in range(0, num_pickups):\n",
    "    location = geolocator.geocode(addresses[i])\n",
    "    coordinates += [[location.point.latitude, location.point.longitude]]\n",
    "\n",
    "#add coordinates column to dataframe\n",
    "\n",
    "new_data['coordinates'] = coordinates"
   ]
  },
  {
   "cell_type": "code",
   "execution_count": null,
   "id": "86b92d32",
   "metadata": {},
   "outputs": [],
   "source": [
    "#start groups + add people with only one time slot\n",
    "one = new_data[new_data['sum'] == 1]\n",
    "data_no_one = new_data.drop(one.index, axis = 0)\n",
    "\n",
    "\n",
    "first_fri_am = one[one['20th am'] == 1]\n",
    "first_fri_pm = one[one['20th pm'] == 1]\n",
    "first_sat_am = one[one['21st am'] == 1]\n",
    "first_sat_pm = one[one['21st pm'] == 1]\n",
    "sec_fri_am = one[one['27th am'] == 1]\n",
    "sec_fri_pm = one[one['27th pm'] == 1]\n",
    "sec_sat_am = one[one['28th am'] == 1]\n",
    "sec_sat_pm = one[one['28th pm'] == 1]\n",
    "\n",
    "tables = [first_fri_am, first_fri_pm, first_sat_am, first_sat_pm, sec_fri_am, sec_fri_pm, sec_sat_am, sec_sat_pm]\n",
    "tables\n",
    "\n",
    "#data_no_one"
   ]
  },
  {
   "cell_type": "code",
   "execution_count": null,
   "id": "f4dca258",
   "metadata": {},
   "outputs": [],
   "source": [
    "google = 0\n",
    "for i in data_no_one.index:\n",
    "    availability = data_no_one.loc[i][days].values\n",
    "    smallest = list()\n",
    "    distances = list()\n",
    "    item_coordinates = data_no_one.loc[i]['coordinates']\n",
    "    for j in range(0,8):\n",
    "        if availability[j] == 1:\n",
    "            tbl_coordinates = tables[j]['coordinates'].values\n",
    "            if len(tbl_coordinates) == 0:\n",
    "                smallest += [0]\n",
    "            else:\n",
    "                distances = list()\n",
    "                for k in range(0, len(tbl_coordinates)):\n",
    "                    if len(tbl_coordinates) == 0:\n",
    "                        smallest += [0]\n",
    "                        break;\n",
    "                    coords = tbl_coordinates[k]\n",
    "                    x = (item_coordinates[0] - coords[0])**2\n",
    "                    y = (item_coordinates[1] - coords[1])**2\n",
    "                    distances += [((x + y)**0.5)]\n",
    "                    google += 1\n",
    "                if distances == []:\n",
    "                    smallest += [0]\n",
    "                smallest += [min(distances)]\n",
    "        else:\n",
    "            smallest += [1000]\n",
    "    minimum_index = smallest.index(min(smallest))\n",
    "    tables[minimum_index] = tables[minimum_index].append(data_no_one.loc[i])"
   ]
  },
  {
   "cell_type": "code",
   "execution_count": null,
   "id": "07920d24-797e-44e1-bb0b-13a27ef4785f",
   "metadata": {},
   "outputs": [],
   "source": [
    "google"
   ]
  },
  {
   "cell_type": "code",
   "execution_count": null,
   "id": "c6f0b9c7",
   "metadata": {},
   "outputs": [],
   "source": [
    "#reset index for each table\n",
    "\n",
    "#for i in range(0, 8):\n",
    "#    tables[i] = tables[i].sort_index()\n",
    "#    display(tables[i])"
   ]
  },
  {
   "cell_type": "code",
   "execution_count": null,
   "id": "8fa7fa63",
   "metadata": {},
   "outputs": [],
   "source": [
    "for i in range(0,8):\n",
    "    print(len(tables[i]))"
   ]
  },
  {
   "cell_type": "code",
   "execution_count": null,
   "id": "aaf2f052",
   "metadata": {},
   "outputs": [],
   "source": [
    "# check length of each table and add indexes that could have some added and ones that could have some removed\n",
    "remove = []\n",
    "add = []\n",
    "\n",
    "for i in range(0,8):\n",
    "    length = len(tables[i])\n",
    "    if length > 13:\n",
    "        remove += [i]\n",
    "    elif length < 13:\n",
    "        add += [i]\n",
    "        \n",
    "remove"
   ]
  },
  {
   "cell_type": "code",
   "execution_count": null,
   "id": "a9106c93",
   "metadata": {},
   "outputs": [],
   "source": [
    "#rearrange lists\n",
    "for item in remove:\n",
    "    more_than_one = tables[item][tables[item]['sum'] > 1]\n",
    "    more_than_one_index = more_than_one.index\n",
    "    for index in reversed(more_than_one_index):\n",
    "        smallest = list()\n",
    "        distances = list()\n",
    "        if len(tables[item]) <= 13:\n",
    "            break;\n",
    "        time_slots = more_than_one.loc[index][days]\n",
    "        item_coordinates = more_than_one.loc[index]['coordinates']\n",
    "        for j in range(0, 8):\n",
    "            if time_slots[j] == 1 and add.count(j) > 0 and item != j:\n",
    "                tbl_coordinates = tables[item]['coordinates'].values\n",
    "                for k in range(0, len(tbl_coordinates)):\n",
    "                    coords = tbl_coordinates[k]\n",
    "                    x = (item_coordinates[0] - coords[0])**2\n",
    "                    y = (item_coordinates[1] - coords[1])**2\n",
    "                    distances += [((x + y)**0.5)]\n",
    "                    google += 1\n",
    "                smallest += [min(distances)]\n",
    "            else:\n",
    "                smallest += [1000]\n",
    "        minimum_index = smallest.index(min(smallest))\n",
    "        #check if this has to be iloc instead of loc -- changed to iloc\n",
    "        tables[minimum_index] = tables[minimum_index].append(more_than_one.loc[index])\n",
    "        tables[item] = tables[item].drop(index, axis = 0)\n",
    "            "
   ]
  },
  {
   "cell_type": "code",
   "execution_count": null,
   "id": "4fbbbf4d-2d62-45f3-8c34-07bcc0cbc775",
   "metadata": {},
   "outputs": [],
   "source": [
    "google"
   ]
  },
  {
   "cell_type": "code",
   "execution_count": null,
   "id": "cdf5cc76-fe10-41d4-a4a7-768010c77b75",
   "metadata": {},
   "outputs": [],
   "source": []
  },
  {
   "cell_type": "code",
   "execution_count": null,
   "id": "0d811c86",
   "metadata": {},
   "outputs": [],
   "source": [
    "#reset index for each table\n",
    "\n",
    "#for i in range(0, 8):\n",
    "#    tables[i] = tables[i].sort_index()\n",
    "#    print(days[i])\n",
    "#    print(len(tables[i]))\n",
    "#    display(tables[i])"
   ]
  },
  {
   "cell_type": "code",
   "execution_count": null,
   "id": "2065cf7e",
   "metadata": {},
   "outputs": [],
   "source": [
    "#validate table lengths\n",
    "for i in range(0, 8):\n",
    "    print(len(tables[i]))"
   ]
  },
  {
   "cell_type": "code",
   "execution_count": null,
   "id": "35e9185c",
   "metadata": {},
   "outputs": [],
   "source": [
    "#putting in order of distance\n",
    "#address off of interstate 80 as the starting point since that's where we were told trucks would start\n",
    "#change this if starting point changes \n",
    "geolocator = Nominatim(user_agent=\"example app\")\n",
    "starting = geolocator.geocode('650 University Avenue, Berkeley')\n",
    "coords_starting = [starting.point.latitude, starting.point.longitude]\n",
    "\n",
    "for i in range(0, 8):\n",
    "    working_tbl = tables[i]\n",
    "    new_tbl = pd.DataFrame()\n",
    "    distances = []\n",
    "    #get starting point\n",
    "    for item in working_tbl.index:\n",
    "        item_coordinates = working_tbl.loc[item]['coordinates']\n",
    "        x = (item_coordinates[0] - coords_starting[0])**2\n",
    "        y = (item_coordinates[1] - coords_starting[1])**2\n",
    "        distances += [((x + y)**0.5)]\n",
    "    minimum_index = distances.index(min(distances))\n",
    "    new_tbl= new_tbl.append(working_tbl.iloc[minimum_index])\n",
    "    distances = []\n",
    "    \n",
    "    #set new starting point to measure distance\n",
    "    starting = working_tbl.iloc[minimum_index]['coordinates']\n",
    "    \n",
    "    print(working_tbl.index[minimum_index])\n",
    "    display(working_tbl)\n",
    "    to_drop = working_tbl.index[minimum_index]\n",
    "    working_tbl = working_tbl.drop(to_drop, axis = 0)\n",
    "    \n",
    "\n",
    "    #order all other points\n",
    "    while len(working_tbl) > 0:\n",
    "        distances = []\n",
    "        for item in working_tbl.index:\n",
    "            item_coordinates = working_tbl.loc[item]['coordinates']\n",
    "            x = (item_coordinates[0] - starting[0])**2\n",
    "            y = (item_coordinates[1] - starting[1])**2\n",
    "            distances += [((x + y)**0.5)]\n",
    "        minimum_index = distances.index(min(distances))\n",
    "        new_tbl= new_tbl.append(working_tbl.iloc[minimum_index])\n",
    "        \n",
    "        #set new starting point to measure distance\n",
    "        starting = working_tbl.iloc[minimum_index]['coordinates']\n",
    "        print(working_tbl.index[minimum_index])\n",
    "        to_drop = working_tbl.index[minimum_index]\n",
    "        working_tbl = working_tbl.drop(to_drop, axis = 0)\n",
    "        \n",
    "        "
   ]
  },
  {
   "cell_type": "code",
   "execution_count": null,
   "id": "cba5c665",
   "metadata": {},
   "outputs": [],
   "source": [
    "for i in range(0, 8):\n",
    "    display(tables[i])"
   ]
  },
  {
   "cell_type": "code",
   "execution_count": null,
   "id": "d4a59d3b",
   "metadata": {},
   "outputs": [],
   "source": []
  }
 ],
 "metadata": {
  "kernelspec": {
   "display_name": "Python 3 (ipykernel)",
   "language": "python",
   "name": "python3"
  },
  "language_info": {
   "codemirror_mode": {
    "name": "ipython",
    "version": 3
   },
   "file_extension": ".py",
   "mimetype": "text/x-python",
   "name": "python",
   "nbconvert_exporter": "python",
   "pygments_lexer": "ipython3",
   "version": "3.9.15"
  }
 },
 "nbformat": 4,
 "nbformat_minor": 5
}
